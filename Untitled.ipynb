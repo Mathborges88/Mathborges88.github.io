{
 "cells": [
  {
   "cell_type": "code",
   "execution_count": 8,
   "id": "d2668921-c2f9-4459-a9f7-30bd385698f2",
   "metadata": {},
   "outputs": [
    {
     "name": "stdin",
     "output_type": "stream",
     "text": [
      " 1992\n"
     ]
    },
    {
     "data": {
      "text/plain": [
       "False"
      ]
     },
     "execution_count": 8,
     "metadata": {},
     "output_type": "execute_result"
    }
   ],
   "source": [
    "def is_leap(year):\n",
    "    leap = False\n",
    "    if 1900<=year<=(10**5):\n",
    "        if year%4==0 and (year%100==0 and year%400==0):\n",
    "            leap=True \n",
    "    else:\n",
    "        print(\"Year is not within the admissible range.\") \n",
    "\n",
    "    return leap\n",
    "year = int(input())\n",
    "is_leap(year)"
   ]
  },
  {
   "cell_type": "code",
   "execution_count": 18,
   "id": "21e61ef8-de1c-4de3-b11b-0da3c57f5c6e",
   "metadata": {},
   "outputs": [
    {
     "name": "stdin",
     "output_type": "stream",
     "text": [
      " 5\n"
     ]
    },
    {
     "name": "stdout",
     "output_type": "stream",
     "text": [
      "1\n",
      "2\n",
      "3\n",
      "4\n",
      "5\n"
     ]
    }
   ],
   "source": [
    "if __name__ == '__main__':\n",
    "    n = int(input())\n",
    "    \n",
    "    for i in range(1,n+1):\n",
    "        print(i, end='')   \n",
    "    "
   ]
  },
  {
   "cell_type": "code",
   "execution_count": 16,
   "id": "3d04236e-db9d-4b6e-b8ca-cd6fcabd91e3",
   "metadata": {},
   "outputs": [
    {
     "data": {
      "text/plain": [
       "5"
      ]
     },
     "execution_count": 16,
     "metadata": {},
     "output_type": "execute_result"
    }
   ],
   "source": [
    "b"
   ]
  },
  {
   "cell_type": "code",
   "execution_count": null,
   "id": "9dc882c2-dead-461d-b90f-60258e6fbef8",
   "metadata": {},
   "outputs": [],
   "source": []
  }
 ],
 "metadata": {
  "kernelspec": {
   "display_name": "Python 3 (ipykernel)",
   "language": "python",
   "name": "python3"
  },
  "language_info": {
   "codemirror_mode": {
    "name": "ipython",
    "version": 3
   },
   "file_extension": ".py",
   "mimetype": "text/x-python",
   "name": "python",
   "nbconvert_exporter": "python",
   "pygments_lexer": "ipython3",
   "version": "3.12.7"
  }
 },
 "nbformat": 4,
 "nbformat_minor": 5
}
